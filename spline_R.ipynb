{
  "nbformat": 4,
  "nbformat_minor": 0,
  "metadata": {
    "colab": {
      "provenance": []
    },
    "kernelspec": {
      "name": "ir",
      "display_name": "R"
    },
    "language_info": {
      "name": "R"
    }
  },
  "cells": [
    {
      "cell_type": "code",
      "source": [
        "# library to use GAM\n",
        "library(mgcv)"
      ],
      "metadata": {
        "id": "sV667rxgkmcX",
        "colab": {
          "base_uri": "https://localhost:8080/"
        },
        "outputId": "0fa5c89b-53db-4024-d755-6e46b4a4abe7"
      },
      "execution_count": 1,
      "outputs": [
        {
          "output_type": "stream",
          "name": "stderr",
          "text": [
            "Loading required package: nlme\n",
            "\n",
            "This is mgcv 1.9-1. For overview type 'help(\"mgcv-package\")'.\n",
            "\n"
          ]
        }
      ]
    },
    {
      "cell_type": "code",
      "source": [
        "# example of train data having 2 inputs\n",
        "set.seed(123)                                       # for reproducibility\n",
        "n  <- 100                                           # number of data point\n",
        "x1 <- runif(n, -1, 1)                               # input 1\n",
        "x2 <- runif(n, -1, 1)                               # input 2\n",
        "y  <- 1 + x1**4 + x2**2 + x1*x2 + rnorm(n, 0, 0.1)  # output"
      ],
      "metadata": {
        "id": "aiRj5G5vcJoD"
      },
      "execution_count": 2,
      "outputs": []
    },
    {
      "cell_type": "code",
      "source": [
        "# Hyper parameters, the bigger number of knots is, the more complex model is.\n",
        "k1 <- 20 # Number of knots for input 1\n",
        "k2 <- 30 # Number of knots for input 2\n",
        "\n",
        "# Fit the model\n",
        "model <- gam(y ~ s(x1, k = k1, bs = \"ps\", m = 4)       +          # linear combination of x1, x1^2, ...\n",
        "                 s(x2, k = k2, bs = \"ps\", m = 5)       +          # linear combination of x2, x2^2, ...\n",
        "                 te(x1, x2, bs = c(\"ps\", \"ps\"), m = 2),           # linear combination of x1x2, x1^2x2, x1x2^2, ...\n",
        "                 method = \"ML\")                                   # using Maximum Likelihood for training"
      ],
      "metadata": {
        "id": "_urRrCjNk-oE"
      },
      "execution_count": 3,
      "outputs": []
    },
    {
      "cell_type": "code",
      "source": [
        "summary(model)"
      ],
      "metadata": {
        "id": "DxNjM2wabQXv",
        "colab": {
          "base_uri": "https://localhost:8080/",
          "height": 434
        },
        "outputId": "dc151b8f-63b7-4299-bae1-95ff64f4138b"
      },
      "execution_count": 4,
      "outputs": [
        {
          "output_type": "display_data",
          "data": {
            "text/plain": [
              "\n",
              "Family: gaussian \n",
              "Link function: identity \n",
              "\n",
              "Formula:\n",
              "y ~ s(x1, k = k1, bs = \"ps\", m = 4) + s(x2, k = k2, bs = \"ps\", \n",
              "    m = 5) + te(x1, x2, bs = c(\"ps\", \"ps\"), m = 2)\n",
              "\n",
              "Parametric coefficients:\n",
              "            Estimate Std. Error t value Pr(>|t|)    \n",
              "(Intercept) 1.424069   0.009594   148.4   <2e-16 ***\n",
              "---\n",
              "Signif. codes:  0 ‘***’ 0.001 ‘**’ 0.01 ‘*’ 0.05 ‘.’ 0.1 ‘ ’ 1\n",
              "\n",
              "Approximate significance of smooth terms:\n",
              "            edf Ref.df      F p-value    \n",
              "s(x1)      4.34  4.732 35.373  <2e-16 ***\n",
              "s(x2)      4.00  4.000  0.661   0.621    \n",
              "te(x1,x2) 10.07 18.000 40.317  <2e-16 ***\n",
              "---\n",
              "Signif. codes:  0 ‘***’ 0.001 ‘**’ 0.01 ‘*’ 0.05 ‘.’ 0.1 ‘ ’ 1\n",
              "\n",
              "R-sq.(adj) =  0.952   Deviance explained = 96.1%\n",
              "-ML = -68.297  Scale est. = 0.0092041  n = 100"
            ]
          },
          "metadata": {}
        }
      ]
    },
    {
      "cell_type": "code",
      "source": [
        "# Predict y wrt new input\n",
        "new_x1 = runif(17, -1, 1)\n",
        "new_x2 = runif(17, -1, 1)\n",
        "pred_y <- predict(model, newdata = data.frame(x1 = new_x1, x2 = new_x2))"
      ],
      "metadata": {
        "id": "Ttzc4utLnFd1"
      },
      "execution_count": 5,
      "outputs": []
    },
    {
      "cell_type": "code",
      "source": [
        "# Scatter plot of real y vs predicted y with respect to x1\n",
        "plot(x1, y, col = \"blue\", pch = 16, xlab = \"x1\", ylab = \"y\", main = \"Real vs Predicted y\")\n",
        "points(new_x1, pred_y, col = \"red\", pch = 16)\n",
        "legend(\"topleft\", legend = c(\"Real y\", \"Predicted y\"), col = c(\"blue\", \"red\"), pch = 16)"
      ],
      "metadata": {
        "colab": {
          "base_uri": "https://localhost:8080/",
          "height": 437
        },
        "id": "5_SVIbUEkJg_",
        "outputId": "be7392ae-b576-4cf7-c233-391f805c6fa5"
      },
      "execution_count": 6,
      "outputs": [
        {
          "output_type": "display_data",
          "data": {
            "text/plain": [
              "Plot with title “Real vs Predicted y”"
            ],
            "image/png": "[encoded data removed]"
          },
          "metadata": {
            "image/png": {
              "width": 420,
              "height": 420
            }
          }
        }
      ]
    },
    {
      "cell_type": "code",
      "source": [
        "# Scatter plot of real y vs predicted y with respect to x2\n",
        "plot(x2, y, col = \"blue\", pch = 16, xlab = \"x2\", ylab = \"y\", main = \"Real vs Predicted y\")\n",
        "points(new_x2, pred_y, col = \"red\", pch = 16)\n",
        "legend(\"topleft\", legend = c(\"Real y\", \"Predicted y\"), col = c(\"blue\", \"red\"), pch = 16)"
      ],
      "metadata": {
        "colab": {
          "base_uri": "https://localhost:8080/",
          "height": 437
        },
        "id": "j04n7OFmn1j_",
        "outputId": "0c500b99-72d2-49d1-e57e-36523fd6c874"
      },
      "execution_count": 7,
      "outputs": [
        {
          "output_type": "display_data",
          "data": {
            "text/plain": [
              "Plot with title “Real vs Predicted y”"
            ],
            "image/png": "[encoded data removed]"
          },
          "metadata": {
            "image/png": {
              "width": 420,
              "height": 420
            }
          }
        }
      ]
    }
  ]
}